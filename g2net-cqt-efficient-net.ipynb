{
 "cells": [
  {
   "cell_type": "markdown",
   "id": "d4d7ba10",
   "metadata": {
    "papermill": {
     "duration": 0.023916,
     "end_time": "2021-08-30T05:05:41.223839",
     "exception": false,
     "start_time": "2021-08-30T05:05:41.199923",
     "status": "completed"
    },
    "tags": []
   },
   "source": [
    "## About this notebook\n",
    "\n",
    "This notebook is based on [CQT G2Net EfficientNetB1[TPU Training]](https://www.kaggle.com/miklgr500/cqt-g2net-efficientnetb7-tpu-training-w-b) by [Welf Crozzo](https://www.kaggle.com/miklgr500) and [nnAudio Constant Q-transform Demonstration](https://www.kaggle.com/atamazian/nnaudio-constant-q-transform-demonstration) by [Araik Tamazian](https://www.kaggle.com/atamazian).\n",
    "\n",
    "This notebook use Constant Q-Transform for feature extraction and EfficientNetB0 for classification. The whole pipeline is implemented with Tensorflow, and the training process runs on TPU.\n",
    "\n",
    "The main difference between this notebook and Welf's notebook is the use of on-the-fly CQT computation implemented with Tensorflow, which is similar to the idea of [nnAudio](https://github.com/KinWaiCheuk/nnAudio)'s [CQT1992v2](https://kinwaicheuk.github.io/nnAudio/_autosummary/nnAudio.Spectrogram.CQT1992v2.html?highlight=cqt1992v2#nnAudio.Spectrogram.CQT1992v2) layer.\n",
    "\n",
    "* [Inference Notebook](https://www.kaggle.com/hidehisaarai1213/g2net-tf-on-the-fly-cqt-tpu-inference)"
   ]
  },
  {
   "cell_type": "markdown",
   "id": "d7b3be66",
   "metadata": {
    "papermill": {
     "duration": 0.025998,
     "end_time": "2021-08-30T05:05:41.272905",
     "exception": false,
     "start_time": "2021-08-30T05:05:41.246907",
     "status": "completed"
    },
    "tags": []
   },
   "source": [
    "## Install Dependencies"
   ]
  },
  {
   "cell_type": "code",
   "execution_count": 1,
   "id": "1e82f744",
   "metadata": {
    "execution": {
     "iopub.execute_input": "2021-08-30T05:05:41.329960Z",
     "iopub.status.busy": "2021-08-30T05:05:41.328642Z",
     "iopub.status.idle": "2021-08-30T05:05:51.200409Z",
     "shell.execute_reply": "2021-08-30T05:05:51.200939Z",
     "shell.execute_reply.started": "2021-08-29T18:07:49.289178Z"
    },
    "papermill": {
     "duration": 9.901422,
     "end_time": "2021-08-30T05:05:51.201252",
     "exception": false,
     "start_time": "2021-08-30T05:05:41.299830",
     "status": "completed"
    },
    "tags": []
   },
   "outputs": [
    {
     "name": "stdout",
     "output_type": "stream",
     "text": [
      "\u001b[33mWARNING: Running pip as root will break packages and permissions. You should install packages reliably by using venv: https://pip.pypa.io/warnings/venv\u001b[0m\r\n"
     ]
    }
   ],
   "source": [
    "!pip install efficientnet tensorflow_addons > /dev/null"
   ]
  },
  {
   "cell_type": "code",
   "execution_count": 2,
   "id": "3a918d13",
   "metadata": {
    "execution": {
     "iopub.execute_input": "2021-08-30T05:05:51.255410Z",
     "iopub.status.busy": "2021-08-30T05:05:51.254733Z",
     "iopub.status.idle": "2021-08-30T05:05:58.833776Z",
     "shell.execute_reply": "2021-08-30T05:05:58.833114Z",
     "shell.execute_reply.started": "2021-08-29T18:07:58.430918Z"
    },
    "papermill": {
     "duration": 7.609035,
     "end_time": "2021-08-30T05:05:58.833933",
     "exception": false,
     "start_time": "2021-08-30T05:05:51.224898",
     "status": "completed"
    },
    "tags": []
   },
   "outputs": [],
   "source": [
    "import os\n",
    "import math\n",
    "import random\n",
    "import re\n",
    "import warnings\n",
    "from pathlib import Path\n",
    "from typing import Optional, Tuple\n",
    "\n",
    "import efficientnet.tfkeras as efn\n",
    "import matplotlib.pyplot as plt\n",
    "import numpy as np\n",
    "import pandas as pd\n",
    "import seaborn as sns\n",
    "import tensorflow as tf\n",
    "import tensorflow_addons as tfa\n",
    "from kaggle_datasets import KaggleDatasets\n",
    "from scipy.signal import get_window\n",
    "from sklearn.model_selection import KFold\n",
    "from sklearn.metrics import roc_auc_score"
   ]
  },
  {
   "cell_type": "code",
   "execution_count": 3,
   "id": "06b016af",
   "metadata": {
    "execution": {
     "iopub.execute_input": "2021-08-30T05:05:58.889463Z",
     "iopub.status.busy": "2021-08-30T05:05:58.888400Z",
     "iopub.status.idle": "2021-08-30T05:05:58.892988Z",
     "shell.execute_reply": "2021-08-30T05:05:58.892328Z",
     "shell.execute_reply.started": "2021-08-29T18:08:05.556822Z"
    },
    "papermill": {
     "duration": 0.035886,
     "end_time": "2021-08-30T05:05:58.893129",
     "exception": false,
     "start_time": "2021-08-30T05:05:58.857243",
     "status": "completed"
    },
    "tags": []
   },
   "outputs": [
    {
     "data": {
      "text/plain": [
       "'2.4.1'"
      ]
     },
     "execution_count": 3,
     "metadata": {},
     "output_type": "execute_result"
    }
   ],
   "source": [
    "tf.__version__"
   ]
  },
  {
   "cell_type": "markdown",
   "id": "e4259f1e",
   "metadata": {
    "papermill": {
     "duration": 0.02316,
     "end_time": "2021-08-30T05:05:58.939818",
     "exception": false,
     "start_time": "2021-08-30T05:05:58.916658",
     "status": "completed"
    },
    "tags": []
   },
   "source": [
    "## Config"
   ]
  },
  {
   "cell_type": "markdown",
   "id": "f39e4587",
   "metadata": {
    "papermill": {
     "duration": 0.023955,
     "end_time": "2021-08-30T05:05:58.987586",
     "exception": false,
     "start_time": "2021-08-30T05:05:58.963631",
     "status": "completed"
    },
    "tags": []
   },
   "source": []
  },
  {
   "cell_type": "code",
   "execution_count": 4,
   "id": "febf061e",
   "metadata": {
    "execution": {
     "iopub.execute_input": "2021-08-30T05:05:59.040709Z",
     "iopub.status.busy": "2021-08-30T05:05:59.040051Z",
     "iopub.status.idle": "2021-08-30T05:05:59.042878Z",
     "shell.execute_reply": "2021-08-30T05:05:59.043345Z",
     "shell.execute_reply.started": "2021-08-29T18:08:05.567978Z"
    },
    "papermill": {
     "duration": 0.032298,
     "end_time": "2021-08-30T05:05:59.043548",
     "exception": false,
     "start_time": "2021-08-30T05:05:59.011250",
     "status": "completed"
    },
    "tags": []
   },
   "outputs": [],
   "source": [
    "NUM_FOLDS = 4\n",
    "IMAGE_SIZE = 256\n",
    "BATCH_SIZE = 32\n",
    "EFFICIENTNET_SIZE = 2\n",
    "WEIGHTS = \"imagenet\"\n",
    "\n",
    "MIXUP_PROB = 0.0\n",
    "EPOCHS = 20\n",
    "R_ANGLE = 0 / 180 * np.pi\n",
    "S_SHIFT = 0.0\n",
    "T_SHIFT = 0.0\n",
    "LABEL_POSITIVE_SHIFT = 0.99"
   ]
  },
  {
   "cell_type": "code",
   "execution_count": 5,
   "id": "44b7e764",
   "metadata": {
    "execution": {
     "iopub.execute_input": "2021-08-30T05:05:59.096195Z",
     "iopub.status.busy": "2021-08-30T05:05:59.095465Z",
     "iopub.status.idle": "2021-08-30T05:05:59.099036Z",
     "shell.execute_reply": "2021-08-30T05:05:59.098367Z",
     "shell.execute_reply.started": "2021-08-29T18:08:05.576814Z"
    },
    "papermill": {
     "duration": 0.031959,
     "end_time": "2021-08-30T05:05:59.099181",
     "exception": false,
     "start_time": "2021-08-30T05:05:59.067222",
     "status": "completed"
    },
    "tags": []
   },
   "outputs": [],
   "source": [
    "SAVEDIR = Path(\"models\")\n",
    "SAVEDIR.mkdir(exist_ok=True)\n",
    "\n",
    "OOFDIR = Path(\"oof\")\n",
    "OOFDIR.mkdir(exist_ok=True)"
   ]
  },
  {
   "cell_type": "markdown",
   "id": "1d8886a3",
   "metadata": {
    "papermill": {
     "duration": 0.023244,
     "end_time": "2021-08-30T05:05:59.146074",
     "exception": false,
     "start_time": "2021-08-30T05:05:59.122830",
     "status": "completed"
    },
    "tags": []
   },
   "source": [
    "## Utilities"
   ]
  },
  {
   "cell_type": "code",
   "execution_count": 6,
   "id": "dfbc4122",
   "metadata": {
    "execution": {
     "iopub.execute_input": "2021-08-30T05:05:59.199465Z",
     "iopub.status.busy": "2021-08-30T05:05:59.198821Z",
     "iopub.status.idle": "2021-08-30T05:05:59.202163Z",
     "shell.execute_reply": "2021-08-30T05:05:59.201510Z",
     "shell.execute_reply.started": "2021-08-29T18:08:05.586799Z"
    },
    "papermill": {
     "duration": 0.032071,
     "end_time": "2021-08-30T05:05:59.202305",
     "exception": false,
     "start_time": "2021-08-30T05:05:59.170234",
     "status": "completed"
    },
    "tags": []
   },
   "outputs": [],
   "source": [
    "def set_seed(seed=42):\n",
    "    random.seed(seed)\n",
    "    os.environ[\"PYTHONHASHSEED\"] = str(seed)\n",
    "    np.random.seed(seed)\n",
    "    tf.random.set_seed(seed)\n",
    "\n",
    "\n",
    "set_seed(1213)"
   ]
  },
  {
   "cell_type": "code",
   "execution_count": 7,
   "id": "c1a748c0",
   "metadata": {
    "execution": {
     "iopub.execute_input": "2021-08-30T05:05:59.257986Z",
     "iopub.status.busy": "2021-08-30T05:05:59.257323Z",
     "iopub.status.idle": "2021-08-30T05:05:59.260650Z",
     "shell.execute_reply": "2021-08-30T05:05:59.260139Z",
     "shell.execute_reply.started": "2021-08-29T18:08:05.597645Z"
    },
    "papermill": {
     "duration": 0.034497,
     "end_time": "2021-08-30T05:05:59.260794",
     "exception": false,
     "start_time": "2021-08-30T05:05:59.226297",
     "status": "completed"
    },
    "tags": []
   },
   "outputs": [],
   "source": [
    "def auto_select_accelerator():\n",
    "    TPU_DETECTED = False\n",
    "    try:\n",
    "        tpu = tf.distribute.cluster_resolver.TPUClusterResolver()\n",
    "        tf.config.experimental_connect_to_cluster(tpu)\n",
    "        tf.tpu.experimental.initialize_tpu_system(tpu)\n",
    "        strategy = tf.distribute.experimental.TPUStrategy(tpu)\n",
    "        print(\"Running on TPU:\", tpu.master())\n",
    "        TPU_DETECTED = True\n",
    "    except ValueError:\n",
    "        strategy = tf.distribute.get_strategy()\n",
    "    print(f\"Running on {strategy.num_replicas_in_sync} replicas\")\n",
    "\n",
    "    return strategy, TPU_DETECTED"
   ]
  },
  {
   "cell_type": "code",
   "execution_count": 8,
   "id": "4dff5a2c",
   "metadata": {
    "execution": {
     "iopub.execute_input": "2021-08-30T05:05:59.330132Z",
     "iopub.status.busy": "2021-08-30T05:05:59.329255Z",
     "iopub.status.idle": "2021-08-30T05:06:05.053082Z",
     "shell.execute_reply": "2021-08-30T05:06:05.053623Z",
     "shell.execute_reply.started": "2021-08-29T18:08:05.610810Z"
    },
    "papermill": {
     "duration": 5.769255,
     "end_time": "2021-08-30T05:06:05.053799",
     "exception": false,
     "start_time": "2021-08-30T05:05:59.284544",
     "status": "completed"
    },
    "tags": []
   },
   "outputs": [
    {
     "name": "stdout",
     "output_type": "stream",
     "text": [
      "Running on TPU: grpc://10.0.0.2:8470\n",
      "Running on 8 replicas\n"
     ]
    }
   ],
   "source": [
    "strategy, tpu_detected = auto_select_accelerator()\n",
    "AUTO = tf.data.experimental.AUTOTUNE\n",
    "REPLICAS = strategy.num_replicas_in_sync"
   ]
  },
  {
   "cell_type": "markdown",
   "id": "3d36a2aa",
   "metadata": {
    "papermill": {
     "duration": 0.02396,
     "end_time": "2021-08-30T05:06:05.102189",
     "exception": false,
     "start_time": "2021-08-30T05:06:05.078229",
     "status": "completed"
    },
    "tags": []
   },
   "source": [
    "## Data Loading"
   ]
  },
  {
   "cell_type": "code",
   "execution_count": 9,
   "id": "a2424720",
   "metadata": {
    "execution": {
     "iopub.execute_input": "2021-08-30T05:06:05.164943Z",
     "iopub.status.busy": "2021-08-30T05:06:05.164241Z",
     "iopub.status.idle": "2021-08-30T05:06:07.201580Z",
     "shell.execute_reply": "2021-08-30T05:06:07.201010Z",
     "shell.execute_reply.started": "2021-08-29T18:08:11.671431Z"
    },
    "papermill": {
     "duration": 2.074951,
     "end_time": "2021-08-30T05:06:07.201738",
     "exception": false,
     "start_time": "2021-08-30T05:06:05.126787",
     "status": "completed"
    },
    "tags": []
   },
   "outputs": [
    {
     "name": "stdout",
     "output_type": "stream",
     "text": [
      "gs://kds-b7801dbcf28ff97eb73ae6b53cab9392ab6f09f990a3de5ed4fef5c5\n",
      "gs://kds-a47f829c8595536270b31ecf2940d9ec096f306b5da14b86c6f852c9\n",
      "gs://kds-4bd8994b094df132d1803492e83675e01a51d9c1cbcf3e3da3de1d00\n",
      "gs://kds-2ab0253546b07dfc3d38f3d9ea5c014db21d8f8cbd872b879c75beed\n"
     ]
    }
   ],
   "source": [
    "gcs_paths = []\n",
    "for i, j in [(0, 4), (5, 9), (10, 14), (15, 19)]:\n",
    "    GCS_path = KaggleDatasets().get_gcs_path(f\"g2net-waveform-tfrecords-train-{i}-{j}\")\n",
    "    gcs_paths.append(GCS_path)\n",
    "    print(GCS_path)"
   ]
  },
  {
   "cell_type": "code",
   "execution_count": 10,
   "id": "73b8b8cc",
   "metadata": {
    "execution": {
     "iopub.execute_input": "2021-08-30T05:06:07.257423Z",
     "iopub.status.busy": "2021-08-30T05:06:07.256688Z",
     "iopub.status.idle": "2021-08-30T05:06:07.843613Z",
     "shell.execute_reply": "2021-08-30T05:06:07.843056Z",
     "shell.execute_reply.started": "2021-08-29T18:08:13.045263Z"
    },
    "papermill": {
     "duration": 0.61666,
     "end_time": "2021-08-30T05:06:07.843756",
     "exception": false,
     "start_time": "2021-08-30T05:06:07.227096",
     "status": "completed"
    },
    "tags": []
   },
   "outputs": [
    {
     "name": "stdout",
     "output_type": "stream",
     "text": [
      "train_files:  20\n"
     ]
    }
   ],
   "source": [
    "all_files = []\n",
    "for path in gcs_paths:\n",
    "    all_files.extend(np.sort(np.array(tf.io.gfile.glob(path + \"/train*.tfrecords\"))))\n",
    "\n",
    "print(\"train_files: \", len(all_files))"
   ]
  },
  {
   "cell_type": "markdown",
   "id": "7bd8de36",
   "metadata": {
    "papermill": {
     "duration": 0.025113,
     "end_time": "2021-08-30T05:06:07.894409",
     "exception": false,
     "start_time": "2021-08-30T05:06:07.869296",
     "status": "completed"
    },
    "tags": []
   },
   "source": [
    "## Dataset Preparation\n",
    "\n",
    "Here's the main contribution of this notebook - Tensorflow version of on-the-fly CQT computation. Note that some of the operations used in CQT computation are not supported by TPU, therefore the implementation is not a TF layer but a function that runs on CPU."
   ]
  },
  {
   "cell_type": "code",
   "execution_count": 11,
   "id": "8cb6329f",
   "metadata": {
    "execution": {
     "iopub.execute_input": "2021-08-30T05:06:07.964652Z",
     "iopub.status.busy": "2021-08-30T05:06:07.958938Z",
     "iopub.status.idle": "2021-08-30T05:06:07.967856Z",
     "shell.execute_reply": "2021-08-30T05:06:07.967315Z",
     "shell.execute_reply.started": "2021-08-29T18:08:13.359418Z"
    },
    "papermill": {
     "duration": 0.048192,
     "end_time": "2021-08-30T05:06:07.967999",
     "exception": false,
     "start_time": "2021-08-30T05:06:07.919807",
     "status": "completed"
    },
    "tags": []
   },
   "outputs": [],
   "source": [
    "def create_cqt_kernels(\n",
    "    q: float,\n",
    "    fs: float,\n",
    "    fmin: float,\n",
    "    n_bins: int = 84,\n",
    "    bins_per_octave: int = 12,\n",
    "    norm: float = 1,\n",
    "    window: str = \"hann\",\n",
    "    fmax: Optional[float] = None,\n",
    "    topbin_check: bool = True\n",
    ") -> Tuple[np.ndarray, int, np.ndarray, float]:\n",
    "    fft_len = 2 ** _nextpow2(np.ceil(q * fs / fmin))\n",
    "    \n",
    "    if (fmax is not None) and (n_bins is None):\n",
    "        n_bins = np.ceil(bins_per_octave * np.log2(fmax / fmin))\n",
    "        freqs = fmin * 2.0 ** (np.r_[0:n_bins] / np.float(bins_per_octave))\n",
    "    elif (fmax is None) and (n_bins is not None):\n",
    "        freqs = fmin * 2.0 ** (np.r_[0:n_bins] / np.float(bins_per_octave))\n",
    "    else:\n",
    "        warnings.warn(\"If nmax is given, n_bins will be ignored\", SyntaxWarning)\n",
    "        n_bins = np.ceil(bins_per_octave * np.log2(fmax / fmin))\n",
    "        freqs = fmin * 2.0 ** (np.r_[0:n_bins] / np.float(bins_per_octave))\n",
    "        \n",
    "    if np.max(freqs) > fs / 2 and topbin_check:\n",
    "        raise ValueError(f\"The top bin {np.max(freqs)} Hz has exceeded the Nyquist frequency, \\\n",
    "                           please reduce the `n_bins`\")\n",
    "    \n",
    "    kernel = np.zeros((int(n_bins), int(fft_len)), dtype=np.complex64)\n",
    "    \n",
    "    length = np.ceil(q * fs / freqs)\n",
    "    for k in range(0, int(n_bins)):\n",
    "        freq = freqs[k]\n",
    "        l = np.ceil(q * fs / freq)\n",
    "        \n",
    "        if l % 2 == 1:\n",
    "            start = int(np.ceil(fft_len / 2.0 - l / 2.0)) - 1\n",
    "        else:\n",
    "            start = int(np.ceil(fft_len / 2.0 - l / 2.0))\n",
    "\n",
    "        sig = get_window(window, int(l), fftbins=True) * np.exp(\n",
    "            np.r_[-l // 2:l // 2] * 1j * 2 * np.pi * freq / fs) / l\n",
    "        \n",
    "        if norm:\n",
    "            kernel[k, start:start + int(l)] = sig / np.linalg.norm(sig, norm)\n",
    "        else:\n",
    "            kernel[k, start:start + int(l)] = sig\n",
    "    return kernel, fft_len, length, freqs\n",
    "\n",
    "\n",
    "def _nextpow2(a: float) -> int:\n",
    "    return int(np.ceil(np.log2(a)))\n",
    "\n",
    "\n",
    "def prepare_cqt_kernel(\n",
    "    sr=22050,\n",
    "    hop_length=512,\n",
    "    fmin=32.70,\n",
    "    fmax=None,\n",
    "    n_bins=84,\n",
    "    bins_per_octave=12,\n",
    "    norm=1,\n",
    "    filter_scale=1,\n",
    "    window=\"hann\"\n",
    "):\n",
    "    q = float(filter_scale) / (2 ** (1 / bins_per_octave) - 1)\n",
    "    print(q)\n",
    "    return create_cqt_kernels(q, sr, fmin, n_bins, bins_per_octave, norm, window, fmax)"
   ]
  },
  {
   "cell_type": "code",
   "execution_count": 12,
   "id": "376d291d",
   "metadata": {
    "execution": {
     "iopub.execute_input": "2021-08-30T05:06:08.027155Z",
     "iopub.status.busy": "2021-08-30T05:06:08.026313Z",
     "iopub.status.idle": "2021-08-30T05:06:08.092457Z",
     "shell.execute_reply": "2021-08-30T05:06:08.091872Z",
     "shell.execute_reply.started": "2021-08-29T18:08:13.381815Z"
    },
    "papermill": {
     "duration": 0.099038,
     "end_time": "2021-08-30T05:06:08.092600",
     "exception": false,
     "start_time": "2021-08-30T05:06:07.993562",
     "status": "completed"
    },
    "tags": []
   },
   "outputs": [
    {
     "name": "stdout",
     "output_type": "stream",
     "text": [
      "34.12708770892056\n"
     ]
    },
    {
     "name": "stderr",
     "output_type": "stream",
     "text": [
      "/opt/conda/lib/python3.7/site-packages/ipykernel_launcher.py:20: SyntaxWarning: If nmax is given, n_bins will be ignored\n"
     ]
    }
   ],
   "source": [
    "HOP_LENGTH = 16\n",
    "cqt_kernels, KERNEL_WIDTH, lengths, _ = prepare_cqt_kernel(\n",
    "    sr=2048,\n",
    "    hop_length=HOP_LENGTH,\n",
    "    fmin=20,\n",
    "    fmax=1024,\n",
    "    bins_per_octave=24)\n",
    "LENGTHS = tf.constant(lengths, dtype=tf.float32)\n",
    "CQT_KERNELS_REAL = tf.constant(np.swapaxes(cqt_kernels.real[:, np.newaxis, :], 0, 2))\n",
    "CQT_KERNELS_IMAG = tf.constant(np.swapaxes(cqt_kernels.imag[:, np.newaxis, :], 0, 2))\n",
    "PADDING = tf.constant([[0, 0],\n",
    "                        [KERNEL_WIDTH // 2, KERNEL_WIDTH // 2],\n",
    "                        [0, 0]])"
   ]
  },
  {
   "cell_type": "code",
   "execution_count": 13,
   "id": "502cbd80",
   "metadata": {
    "execution": {
     "iopub.execute_input": "2021-08-30T05:06:08.153505Z",
     "iopub.status.busy": "2021-08-30T05:06:08.152790Z",
     "iopub.status.idle": "2021-08-30T05:06:08.156154Z",
     "shell.execute_reply": "2021-08-30T05:06:08.155507Z",
     "shell.execute_reply.started": "2021-08-29T18:08:13.454271Z"
    },
    "papermill": {
     "duration": 0.03769,
     "end_time": "2021-08-30T05:06:08.156296",
     "exception": false,
     "start_time": "2021-08-30T05:06:08.118606",
     "status": "completed"
    },
    "tags": []
   },
   "outputs": [],
   "source": [
    "def create_cqt_image(wave, hop_length=16):\n",
    "    CQTs = []\n",
    "    for i in range(3):\n",
    "        x = wave[i]\n",
    "        x = tf.expand_dims(tf.expand_dims(x, 0), 2)\n",
    "        x = tf.pad(x, PADDING, \"REFLECT\")\n",
    "\n",
    "        CQT_real = tf.nn.conv1d(x, CQT_KERNELS_REAL, stride=hop_length, padding=\"VALID\")\n",
    "        CQT_imag = -tf.nn.conv1d(x, CQT_KERNELS_IMAG, stride=hop_length, padding=\"VALID\")\n",
    "        CQT_real *= tf.math.sqrt(LENGTHS)\n",
    "        CQT_imag *= tf.math.sqrt(LENGTHS)\n",
    "\n",
    "        CQT = tf.math.sqrt(tf.pow(CQT_real, 2) + tf.pow(CQT_imag, 2))\n",
    "        CQTs.append(CQT[0])\n",
    "    return tf.stack(CQTs, axis=2)"
   ]
  },
  {
   "cell_type": "code",
   "execution_count": 14,
   "id": "5b9d7675",
   "metadata": {
    "execution": {
     "iopub.execute_input": "2021-08-30T05:06:08.242575Z",
     "iopub.status.busy": "2021-08-30T05:06:08.241495Z",
     "iopub.status.idle": "2021-08-30T05:06:08.244640Z",
     "shell.execute_reply": "2021-08-30T05:06:08.244125Z",
     "shell.execute_reply.started": "2021-08-29T18:08:13.463321Z"
    },
    "papermill": {
     "duration": 0.061699,
     "end_time": "2021-08-30T05:06:08.244787",
     "exception": false,
     "start_time": "2021-08-30T05:06:08.183088",
     "status": "completed"
    },
    "tags": []
   },
   "outputs": [],
   "source": [
    "def read_labeled_tfrecord(example):\n",
    "    tfrec_format = {\n",
    "        \"wave\": tf.io.FixedLenFeature([], tf.string),\n",
    "        \"wave_id\": tf.io.FixedLenFeature([], tf.string),\n",
    "        \"target\": tf.io.FixedLenFeature([], tf.int64)\n",
    "    }\n",
    "    example = tf.io.parse_single_example(example, tfrec_format)\n",
    "    return prepare_image(example[\"wave\"], IMAGE_SIZE), tf.reshape(tf.cast(example[\"target\"], tf.float32), [1])\n",
    "\n",
    "\n",
    "def read_unlabeled_tfrecord(example, return_image_id):\n",
    "    tfrec_format = {\n",
    "        \"wave\": tf.io.FixedLenFeature([], tf.string),\n",
    "        \"wave_id\": tf.io.FixedLenFeature([], tf.string)\n",
    "    }\n",
    "    example = tf.io.parse_single_example(example, tfrec_format)\n",
    "    return prepare_image(example[\"wave\"], IMAGE_SIZE), example[\"wave_id\"] if return_image_id else 0\n",
    "\n",
    "\n",
    "def count_data_items(fileids):\n",
    "    return len(fileids) * 28000\n",
    "\n",
    "\n",
    "def count_data_items_test(fileids):\n",
    "    return len(fileids) * 22600\n",
    "\n",
    "\n",
    "def mixup(image, label, probability=0.5, aug_batch=64 * 8):\n",
    "    imgs = []\n",
    "    labs = []\n",
    "    for j in range(aug_batch):\n",
    "        p = tf.cast(tf.random.uniform([], 0, 1) <= probability, tf.float32)\n",
    "        k = tf.cast(tf.random.uniform([], 0, aug_batch), tf.int32)\n",
    "        a = tf.random.uniform([], 0, 1) * p\n",
    "\n",
    "        img1 = image[j]\n",
    "        img2 = image[k]\n",
    "        imgs.append((1 - a) * img1 + a * img2)\n",
    "        lab1 = label[j]\n",
    "        lab2 = label[k]\n",
    "        labs.append((1 - a) * lab1 + a * lab2)\n",
    "    image2 = tf.reshape(tf.stack(imgs), (aug_batch, IMAGE_SIZE, IMAGE_SIZE, 3))\n",
    "    label2 = tf.reshape(tf.stack(labs), (aug_batch,))\n",
    "    return image2, label2\n",
    "\n",
    "\n",
    "def time_shift(img, shift=T_SHIFT):\n",
    "    if shift > 0:\n",
    "        T = IMAGE_SIZE\n",
    "        P = tf.random.uniform([],0,1)\n",
    "        SHIFT = tf.cast(T * P, tf.int32)\n",
    "        return tf.concat([img[-SHIFT:], img[:-SHIFT]], axis=0)\n",
    "    return img\n",
    "\n",
    "\n",
    "def rotate(img, angle=R_ANGLE):\n",
    "    if angle > 0:\n",
    "        P = tf.random.uniform([],0,1)\n",
    "        A = tf.cast(angle * P, tf.float32)\n",
    "        return tfa.image.rotate(img, A)\n",
    "    return img\n",
    "\n",
    "\n",
    "def spector_shift(img, shift=S_SHIFT):\n",
    "    if shift > 0:\n",
    "        T = IMAGE_SIZE\n",
    "        P = tf.random.uniform([],0,1)\n",
    "        SHIFT = tf.cast(T * P, tf.int32)\n",
    "        return tf.concat([img[:, -SHIFT:], img[:, :-SHIFT]], axis=1)\n",
    "    return img\n",
    "\n",
    "def img_aug_f(img):\n",
    "    img = time_shift(img)\n",
    "    img = spector_shift(img)\n",
    "    # img = rotate(img)\n",
    "    return img\n",
    "\n",
    "\n",
    "def imgs_aug_f(imgs, batch_size):\n",
    "    _imgs = []\n",
    "    DIM = IMAGE_SIZE\n",
    "    for j in range(batch_size):\n",
    "        _imgs.append(img_aug_f(imgs[j]))\n",
    "    return tf.reshape(tf.stack(_imgs),(batch_size,DIM,DIM,3))\n",
    "\n",
    "\n",
    "def label_positive_shift(labels):\n",
    "    return labels * LABEL_POSITIVE_SHIFT\n",
    "\n",
    "\n",
    "def aug_f(imgs, labels, batch_size):\n",
    "    imgs, label = mixup(imgs, labels, MIXUP_PROB, batch_size)\n",
    "    imgs = imgs_aug_f(imgs, batch_size)\n",
    "    return imgs, label_positive_shift(label)\n",
    "\n",
    "\n",
    "def prepare_image(wave, dim=256):\n",
    "    wave = tf.reshape(tf.io.decode_raw(wave, tf.float64), (3, 4096))\n",
    "    normalized_waves = []\n",
    "    for i in range(3):\n",
    "        normalized_wave = wave[i] / tf.math.reduce_max(wave[i])\n",
    "        normalized_waves.append(normalized_wave)\n",
    "    wave = tf.stack(normalized_waves)\n",
    "    wave = tf.cast(wave, tf.float32)\n",
    "    image = create_cqt_image(wave, HOP_LENGTH)\n",
    "    image = tf.image.resize(image, size=(dim, dim))\n",
    "    return tf.reshape(image, (dim, dim, 3))\n",
    "\n",
    "\n",
    "def get_dataset(files, batch_size=16, repeat=False, shuffle=False, aug=True, labeled=True, return_image_ids=True):\n",
    "    ds = tf.data.TFRecordDataset(files, num_parallel_reads=AUTO, compression_type=\"GZIP\")\n",
    "    ds = ds.cache()\n",
    "\n",
    "    if repeat:\n",
    "        ds = ds.repeat()\n",
    "\n",
    "    if shuffle:\n",
    "        ds = ds.shuffle(1024 * 2)\n",
    "        opt = tf.data.Options()\n",
    "        opt.experimental_deterministic = False\n",
    "        ds = ds.with_options(opt)\n",
    "\n",
    "    if labeled:\n",
    "        ds = ds.map(read_labeled_tfrecord, num_parallel_calls=AUTO)\n",
    "    else:\n",
    "        ds = ds.map(lambda example: read_unlabeled_tfrecord(example, return_image_ids), num_parallel_calls=AUTO)\n",
    "\n",
    "    ds = ds.batch(batch_size * REPLICAS)\n",
    "    if aug:\n",
    "        ds = ds.map(lambda x, y: aug_f(x, y, batch_size * REPLICAS), num_parallel_calls=AUTO)\n",
    "    ds = ds.prefetch(AUTO)\n",
    "    return ds"
   ]
  },
  {
   "cell_type": "markdown",
   "id": "6caf0ea9",
   "metadata": {
    "papermill": {
     "duration": 0.025752,
     "end_time": "2021-08-30T05:06:08.296525",
     "exception": false,
     "start_time": "2021-08-30T05:06:08.270773",
     "status": "completed"
    },
    "tags": []
   },
   "source": [
    "## Model"
   ]
  },
  {
   "cell_type": "code",
   "execution_count": 15,
   "id": "b6c3c405",
   "metadata": {
    "execution": {
     "iopub.execute_input": "2021-08-30T05:06:08.358050Z",
     "iopub.status.busy": "2021-08-30T05:06:08.357028Z",
     "iopub.status.idle": "2021-08-30T05:06:08.360085Z",
     "shell.execute_reply": "2021-08-30T05:06:08.359582Z",
     "shell.execute_reply.started": "2021-08-29T18:08:13.495858Z"
    },
    "papermill": {
     "duration": 0.037822,
     "end_time": "2021-08-30T05:06:08.360225",
     "exception": false,
     "start_time": "2021-08-30T05:06:08.322403",
     "status": "completed"
    },
    "tags": []
   },
   "outputs": [],
   "source": [
    "def build_model(size=256, efficientnet_size=0, weights=\"imagenet\", count=0):\n",
    "    inputs = tf.keras.layers.Input(shape=(size, size, 3))\n",
    "    \n",
    "    efn_string= f\"EfficientNetB{efficientnet_size}\"\n",
    "    efn_layer = getattr(efn, efn_string)(input_shape=(size, size, 3), weights=weights, include_top=False)\n",
    "\n",
    "    x = efn_layer(inputs)\n",
    "    x = tf.keras.layers.GlobalAveragePooling2D()(x)\n",
    "\n",
    "    x = tf.keras.layers.Dropout(0.2)(x)\n",
    "    x = tf.keras.layers.Dense(1, activation=\"sigmoid\")(x)\n",
    "    model = tf.keras.Model(inputs=inputs, outputs=x)\n",
    "\n",
    "    lr_decayed_fn = tf.keras.experimental.CosineDecay(1e-3, count)\n",
    "    opt = tfa.optimizers.AdamW(lr_decayed_fn, learning_rate=1e-4)\n",
    "    loss = tf.keras.losses.BinaryCrossentropy()\n",
    "    model.compile(optimizer=opt, loss=loss, metrics=[\"AUC\"])\n",
    "    return model"
   ]
  },
  {
   "cell_type": "code",
   "execution_count": 16,
   "id": "19d1ea5f",
   "metadata": {
    "execution": {
     "iopub.execute_input": "2021-08-30T05:06:08.420467Z",
     "iopub.status.busy": "2021-08-30T05:06:08.419759Z",
     "iopub.status.idle": "2021-08-30T05:06:08.423208Z",
     "shell.execute_reply": "2021-08-30T05:06:08.422547Z",
     "shell.execute_reply.started": "2021-08-29T18:08:13.512644Z"
    },
    "papermill": {
     "duration": 0.036864,
     "end_time": "2021-08-30T05:06:08.423365",
     "exception": false,
     "start_time": "2021-08-30T05:06:08.386501",
     "status": "completed"
    },
    "tags": []
   },
   "outputs": [],
   "source": [
    "def get_lr_callback(batch_size=8, replicas=8):\n",
    "    lr_start   = 1e-4\n",
    "    lr_max     = 0.000015 * replicas * batch_size\n",
    "    lr_min     = 1e-7\n",
    "    lr_ramp_ep = 3\n",
    "    lr_sus_ep  = 0\n",
    "    lr_decay   = 0.7\n",
    "   \n",
    "    def lrfn(epoch):\n",
    "        if epoch < lr_ramp_ep:\n",
    "            lr = (lr_max - lr_start) / lr_ramp_ep * epoch + lr_start\n",
    "            \n",
    "        elif epoch < lr_ramp_ep + lr_sus_ep:\n",
    "            lr = lr_max\n",
    "            \n",
    "        else:\n",
    "            lr = (lr_max - lr_min) * lr_decay**(epoch - lr_ramp_ep - lr_sus_ep) + lr_min\n",
    "            \n",
    "        return lr\n",
    "\n",
    "    lr_callback = tf.keras.callbacks.LearningRateScheduler(lrfn, verbose=True)\n",
    "    return lr_callback"
   ]
  },
  {
   "cell_type": "markdown",
   "id": "0ee03394",
   "metadata": {
    "papermill": {
     "duration": 0.026662,
     "end_time": "2021-08-30T05:06:08.476678",
     "exception": false,
     "start_time": "2021-08-30T05:06:08.450016",
     "status": "completed"
    },
    "tags": []
   },
   "source": [
    "## Training"
   ]
  },
  {
   "cell_type": "code",
   "execution_count": 17,
   "id": "ed36d5e1",
   "metadata": {
    "execution": {
     "iopub.execute_input": "2021-08-30T05:06:08.534831Z",
     "iopub.status.busy": "2021-08-30T05:06:08.534082Z",
     "iopub.status.idle": "2021-08-30T05:06:08.535992Z",
     "shell.execute_reply": "2021-08-30T05:06:08.536483Z",
     "shell.execute_reply.started": "2021-08-29T18:08:13.529333Z"
    },
    "papermill": {
     "duration": 0.033554,
     "end_time": "2021-08-30T05:06:08.536658",
     "exception": false,
     "start_time": "2021-08-30T05:06:08.503104",
     "status": "completed"
    },
    "tags": []
   },
   "outputs": [],
   "source": [
    "kf = KFold(n_splits=NUM_FOLDS, shuffle=True, random_state=1213)\n",
    "oof_pred = []\n",
    "oof_target = []\n",
    "\n",
    "files_train_all = np.array(all_files)"
   ]
  },
  {
   "cell_type": "code",
   "execution_count": 18,
   "id": "ec943b9d",
   "metadata": {
    "execution": {
     "iopub.execute_input": "2021-08-30T05:06:08.592877Z",
     "iopub.status.busy": "2021-08-30T05:06:08.592107Z",
     "iopub.status.idle": "2021-08-30T08:44:49.322556Z",
     "shell.execute_reply": "2021-08-30T08:44:49.320209Z"
    },
    "papermill": {
     "duration": 13120.759962,
     "end_time": "2021-08-30T08:44:49.322725",
     "exception": false,
     "start_time": "2021-08-30T05:06:08.562763",
     "status": "completed"
    },
    "tags": []
   },
   "outputs": [
    {
     "name": "stdout",
     "output_type": "stream",
     "text": [
      "========================================================================================================================\n",
      "Fold 0\n",
      "========================================================================================================================\n",
      "Running on TPU: grpc://10.0.0.2:8470\n",
      "Running on 8 replicas\n",
      "Downloading data from https://github.com/Callidior/keras-applications/releases/download/efficientnet/efficientnet-b2_weights_tf_dim_ordering_tf_kernels_autoaugment_notop.h5\n",
      "31940608/31936256 [==============================] - 1s 0us/step\n",
      "Epoch 1/20\n",
      "\n",
      "Epoch 00001: LearningRateScheduler reducing learning rate to 0.0001.\n",
      "410/410 [==============================] - 270s 415ms/step - loss: 0.6065 - auc: 0.6979 - val_loss: 0.6867 - val_auc: 0.5899\n",
      "\n",
      "Epoch 00001: val_auc improved from -inf to 0.58990, saving model to models/fold0.h5\n",
      "Epoch 2/20\n",
      "\n",
      "Epoch 00002: LearningRateScheduler reducing learning rate to 0.0013466666666666668.\n",
      "410/410 [==============================] - 137s 335ms/step - loss: 0.5084 - auc: 0.8117 - val_loss: 0.4958 - val_auc: 0.8442\n",
      "\n",
      "Epoch 00002: val_auc improved from 0.58990 to 0.84423, saving model to models/fold0.h5\n",
      "Epoch 3/20\n",
      "\n",
      "Epoch 00003: LearningRateScheduler reducing learning rate to 0.0025933333333333333.\n",
      "410/410 [==============================] - 140s 342ms/step - loss: 0.4793 - auc: 0.8335 - val_loss: 0.5005 - val_auc: 0.8475\n",
      "\n",
      "Epoch 00003: val_auc improved from 0.84423 to 0.84749, saving model to models/fold0.h5\n",
      "Epoch 4/20\n",
      "\n",
      "Epoch 00004: LearningRateScheduler reducing learning rate to 0.00384.\n",
      "410/410 [==============================] - 134s 328ms/step - loss: 0.4729 - auc: 0.8391 - val_loss: 0.8802 - val_auc: 0.8420\n",
      "\n",
      "Epoch 00004: val_auc did not improve from 0.84749\n",
      "Epoch 5/20\n",
      "\n",
      "Epoch 00005: LearningRateScheduler reducing learning rate to 0.0026880299999999997.\n",
      "410/410 [==============================] - 133s 324ms/step - loss: 0.4563 - auc: 0.8493 - val_loss: 0.4564 - val_auc: 0.8486\n",
      "\n",
      "Epoch 00005: val_auc improved from 0.84749 to 0.84856, saving model to models/fold0.h5\n",
      "Epoch 6/20\n",
      "\n",
      "Epoch 00006: LearningRateScheduler reducing learning rate to 0.001881651.\n",
      "410/410 [==============================] - 133s 325ms/step - loss: 0.4545 - auc: 0.8527 - val_loss: 0.4431 - val_auc: 0.8587\n",
      "\n",
      "Epoch 00006: val_auc improved from 0.84856 to 0.85867, saving model to models/fold0.h5\n",
      "Epoch 7/20\n",
      "\n",
      "Epoch 00007: LearningRateScheduler reducing learning rate to 0.0013171856999999998.\n",
      "410/410 [==============================] - 133s 325ms/step - loss: 0.4463 - auc: 0.8574 - val_loss: 0.4643 - val_auc: 0.8587\n",
      "\n",
      "Epoch 00007: val_auc improved from 0.85867 to 0.85873, saving model to models/fold0.h5\n",
      "Epoch 8/20\n",
      "\n",
      "Epoch 00008: LearningRateScheduler reducing learning rate to 0.0009220599899999999.\n",
      "410/410 [==============================] - 133s 324ms/step - loss: 0.4445 - auc: 0.8591 - val_loss: 0.4713 - val_auc: 0.8581\n",
      "\n",
      "Epoch 00008: val_auc did not improve from 0.85873\n",
      "Epoch 9/20\n",
      "\n",
      "Epoch 00009: LearningRateScheduler reducing learning rate to 0.0006454719929999997.\n",
      "410/410 [==============================] - 134s 326ms/step - loss: 0.4397 - auc: 0.8611 - val_loss: 0.4302 - val_auc: 0.8618\n",
      "\n",
      "Epoch 00009: val_auc improved from 0.85873 to 0.86183, saving model to models/fold0.h5\n",
      "Epoch 10/20\n",
      "\n",
      "Epoch 00010: LearningRateScheduler reducing learning rate to 0.00045186039509999986.\n",
      "410/410 [==============================] - 133s 325ms/step - loss: 0.4399 - auc: 0.8616 - val_loss: 0.4358 - val_auc: 0.8626\n",
      "\n",
      "Epoch 00010: val_auc improved from 0.86183 to 0.86260, saving model to models/fold0.h5\n",
      "Epoch 11/20\n",
      "\n",
      "Epoch 00011: LearningRateScheduler reducing learning rate to 0.00031633227656999987.\n",
      "410/410 [==============================] - 133s 325ms/step - loss: 0.4345 - auc: 0.8651 - val_loss: 0.4286 - val_auc: 0.8635\n",
      "\n",
      "Epoch 00011: val_auc improved from 0.86260 to 0.86346, saving model to models/fold0.h5\n",
      "Epoch 12/20\n",
      "\n",
      "Epoch 00012: LearningRateScheduler reducing learning rate to 0.0002214625935989999.\n",
      "410/410 [==============================] - 133s 326ms/step - loss: 0.4346 - auc: 0.8651 - val_loss: 0.4272 - val_auc: 0.8636\n",
      "\n",
      "Epoch 00012: val_auc improved from 0.86346 to 0.86358, saving model to models/fold0.h5\n",
      "Epoch 13/20\n",
      "\n",
      "Epoch 00013: LearningRateScheduler reducing learning rate to 0.00015505381551929993.\n",
      "410/410 [==============================] - 133s 326ms/step - loss: 0.4293 - auc: 0.8681 - val_loss: 0.4274 - val_auc: 0.8638\n",
      "\n",
      "Epoch 00013: val_auc improved from 0.86358 to 0.86381, saving model to models/fold0.h5\n",
      "Epoch 14/20\n",
      "\n",
      "Epoch 00014: LearningRateScheduler reducing learning rate to 0.00010856767086350995.\n",
      "410/410 [==============================] - 133s 325ms/step - loss: 0.4316 - auc: 0.8669 - val_loss: 0.4277 - val_auc: 0.8643\n",
      "\n",
      "Epoch 00014: val_auc improved from 0.86381 to 0.86427, saving model to models/fold0.h5\n",
      "Epoch 15/20\n",
      "\n",
      "Epoch 00015: LearningRateScheduler reducing learning rate to 7.602736960445695e-05.\n",
      "410/410 [==============================] - 133s 326ms/step - loss: 0.4281 - auc: 0.8693 - val_loss: 0.4251 - val_auc: 0.8645\n",
      "\n",
      "Epoch 00015: val_auc improved from 0.86427 to 0.86450, saving model to models/fold0.h5\n",
      "Epoch 16/20\n",
      "\n",
      "Epoch 00016: LearningRateScheduler reducing learning rate to 5.324915872311987e-05.\n",
      "410/410 [==============================] - 134s 327ms/step - loss: 0.4289 - auc: 0.8689 - val_loss: 0.4248 - val_auc: 0.8644\n",
      "\n",
      "Epoch 00016: val_auc did not improve from 0.86450\n",
      "Epoch 17/20\n",
      "\n",
      "Epoch 00017: LearningRateScheduler reducing learning rate to 3.7304411106183906e-05.\n",
      "410/410 [==============================] - 133s 326ms/step - loss: 0.4253 - auc: 0.8704 - val_loss: 0.4252 - val_auc: 0.8645\n",
      "\n",
      "Epoch 00017: val_auc improved from 0.86450 to 0.86452, saving model to models/fold0.h5\n",
      "Epoch 18/20\n",
      "\n",
      "Epoch 00018: LearningRateScheduler reducing learning rate to 2.614308777432873e-05.\n",
      "410/410 [==============================] - 134s 328ms/step - loss: 0.4275 - auc: 0.8697 - val_loss: 0.4258 - val_auc: 0.8646\n",
      "\n",
      "Epoch 00018: val_auc improved from 0.86452 to 0.86462, saving model to models/fold0.h5\n",
      "Epoch 19/20\n",
      "\n",
      "Epoch 00019: LearningRateScheduler reducing learning rate to 1.833016144203011e-05.\n",
      "410/410 [==============================] - 134s 326ms/step - loss: 0.4247 - auc: 0.8717 - val_loss: 0.4246 - val_auc: 0.8647\n",
      "\n",
      "Epoch 00019: val_auc improved from 0.86462 to 0.86465, saving model to models/fold0.h5\n",
      "Epoch 20/20\n",
      "\n",
      "Epoch 00020: LearningRateScheduler reducing learning rate to 1.2861113009421077e-05.\n",
      "410/410 [==============================] - 134s 327ms/step - loss: 0.4267 - auc: 0.8699 - val_loss: 0.4246 - val_auc: 0.8645\n",
      "\n",
      "Epoch 00020: val_auc did not improve from 0.86465\n",
      "Loading best model...\n"
     ]
    },
    {
     "name": "stderr",
     "output_type": "stream",
     "text": [
      "/opt/conda/lib/python3.7/site-packages/seaborn/distributions.py:2557: FutureWarning: `distplot` is a deprecated function and will be removed in a future version. Please adapt your code to use either `displot` (a figure-level function with similar flexibility) or `histplot` (an axes-level function for histograms).\n",
      "  warnings.warn(msg, FutureWarning)\n"
     ]
    },
    {
     "data": {
      "image/png": "[encoded data removed]",
      "text/plain": [
       "<Figure size 576x432 with 1 Axes>"
      ]
     },
     "metadata": {
      "needs_background": "light"
     },
     "output_type": "display_data"
    },
    {
     "data": {
      "image/png": "[encoded data removed]",
      "text/plain": [
       "<Figure size 1080x360 with 2 Axes>"
      ]
     },
     "metadata": {
      "needs_background": "light"
     },
     "output_type": "display_data"
    },
    {
     "name": "stdout",
     "output_type": "stream",
     "text": [
      "========================================================================================================================\n",
      "Fold 1\n",
      "========================================================================================================================\n",
      "Running on TPU: grpc://10.0.0.2:8470\n",
      "Running on 8 replicas\n",
      "Epoch 1/20\n",
      "\n",
      "Epoch 00001: LearningRateScheduler reducing learning rate to 0.0001.\n",
      "410/410 [==============================] - 250s 353ms/step - loss: 0.6028 - auc: 0.7020 - val_loss: 0.7205 - val_auc: 0.5529\n",
      "\n",
      "Epoch 00001: val_auc improved from -inf to 0.55288, saving model to models/fold1.h5\n",
      "Epoch 2/20\n",
      "\n",
      "Epoch 00002: LearningRateScheduler reducing learning rate to 0.0013466666666666668.\n",
      "410/410 [==============================] - 134s 327ms/step - loss: 0.5052 - auc: 0.8133 - val_loss: 0.4671 - val_auc: 0.8450\n",
      "\n",
      "Epoch 00002: val_auc improved from 0.55288 to 0.84500, saving model to models/fold1.h5\n",
      "Epoch 3/20\n",
      "\n",
      "Epoch 00003: LearningRateScheduler reducing learning rate to 0.0025933333333333333.\n",
      "410/410 [==============================] - 134s 327ms/step - loss: 0.4806 - auc: 0.8340 - val_loss: 0.8780 - val_auc: 0.8059\n",
      "\n",
      "Epoch 00003: val_auc did not improve from 0.84500\n",
      "Epoch 4/20\n",
      "\n",
      "Epoch 00004: LearningRateScheduler reducing learning rate to 0.00384.\n",
      "410/410 [==============================] - 134s 327ms/step - loss: 0.4735 - auc: 0.8389 - val_loss: 0.4680 - val_auc: 0.8509\n",
      "\n",
      "Epoch 00004: val_auc improved from 0.84500 to 0.85087, saving model to models/fold1.h5\n",
      "Epoch 5/20\n",
      "\n",
      "Epoch 00005: LearningRateScheduler reducing learning rate to 0.0026880299999999997.\n",
      "410/410 [==============================] - 135s 328ms/step - loss: 0.4577 - auc: 0.8491 - val_loss: 0.4453 - val_auc: 0.8536\n",
      "\n",
      "Epoch 00005: val_auc improved from 0.85087 to 0.85358, saving model to models/fold1.h5\n",
      "Epoch 6/20\n",
      "\n",
      "Epoch 00006: LearningRateScheduler reducing learning rate to 0.001881651.\n",
      "410/410 [==============================] - 135s 329ms/step - loss: 0.4495 - auc: 0.8551 - val_loss: 0.4609 - val_auc: 0.8570\n",
      "\n",
      "Epoch 00006: val_auc improved from 0.85358 to 0.85696, saving model to models/fold1.h5\n",
      "Epoch 7/20\n",
      "\n",
      "Epoch 00007: LearningRateScheduler reducing learning rate to 0.0013171856999999998.\n",
      "410/410 [==============================] - 135s 329ms/step - loss: 0.4472 - auc: 0.8568 - val_loss: 0.4391 - val_auc: 0.8569\n",
      "\n",
      "Epoch 00007: val_auc did not improve from 0.85696\n",
      "Epoch 8/20\n",
      "\n",
      "Epoch 00008: LearningRateScheduler reducing learning rate to 0.0009220599899999999.\n",
      "410/410 [==============================] - 135s 329ms/step - loss: 0.4446 - auc: 0.8579 - val_loss: 0.4338 - val_auc: 0.8609\n",
      "\n",
      "Epoch 00008: val_auc improved from 0.85696 to 0.86094, saving model to models/fold1.h5\n",
      "Epoch 9/20\n",
      "\n",
      "Epoch 00009: LearningRateScheduler reducing learning rate to 0.0006454719929999997.\n",
      "410/410 [==============================] - 135s 329ms/step - loss: 0.4401 - auc: 0.8618 - val_loss: 0.4317 - val_auc: 0.8606\n",
      "\n",
      "Epoch 00009: val_auc did not improve from 0.86094\n",
      "Epoch 10/20\n",
      "\n",
      "Epoch 00010: LearningRateScheduler reducing learning rate to 0.00045186039509999986.\n",
      "410/410 [==============================] - 135s 329ms/step - loss: 0.4348 - auc: 0.8654 - val_loss: 0.4297 - val_auc: 0.8621\n",
      "\n",
      "Epoch 00010: val_auc improved from 0.86094 to 0.86211, saving model to models/fold1.h5\n",
      "Epoch 11/20\n",
      "\n",
      "Epoch 00011: LearningRateScheduler reducing learning rate to 0.00031633227656999987.\n",
      "410/410 [==============================] - 135s 330ms/step - loss: 0.4366 - auc: 0.8639 - val_loss: 0.4310 - val_auc: 0.8625\n",
      "\n",
      "Epoch 00011: val_auc improved from 0.86211 to 0.86255, saving model to models/fold1.h5\n",
      "Epoch 12/20\n",
      "\n",
      "Epoch 00012: LearningRateScheduler reducing learning rate to 0.0002214625935989999.\n",
      "410/410 [==============================] - 135s 329ms/step - loss: 0.4343 - auc: 0.8648 - val_loss: 0.4303 - val_auc: 0.8634\n",
      "\n",
      "Epoch 00012: val_auc improved from 0.86255 to 0.86339, saving model to models/fold1.h5\n",
      "Epoch 13/20\n",
      "\n",
      "Epoch 00013: LearningRateScheduler reducing learning rate to 0.00015505381551929993.\n",
      "410/410 [==============================] - 135s 329ms/step - loss: 0.4302 - auc: 0.8681 - val_loss: 0.4267 - val_auc: 0.8636\n",
      "\n",
      "Epoch 00013: val_auc improved from 0.86339 to 0.86360, saving model to models/fold1.h5\n",
      "Epoch 14/20\n",
      "\n",
      "Epoch 00014: LearningRateScheduler reducing learning rate to 0.00010856767086350995.\n",
      "410/410 [==============================] - 135s 329ms/step - loss: 0.4267 - auc: 0.8694 - val_loss: 0.4268 - val_auc: 0.8637\n",
      "\n",
      "Epoch 00014: val_auc improved from 0.86360 to 0.86375, saving model to models/fold1.h5\n",
      "Epoch 15/20\n",
      "\n",
      "Epoch 00015: LearningRateScheduler reducing learning rate to 7.602736960445695e-05.\n",
      "410/410 [==============================] - 135s 329ms/step - loss: 0.4308 - auc: 0.8678 - val_loss: 0.4268 - val_auc: 0.8637\n",
      "\n",
      "Epoch 00015: val_auc did not improve from 0.86375\n",
      "Epoch 16/20\n",
      "\n",
      "Epoch 00016: LearningRateScheduler reducing learning rate to 5.324915872311987e-05.\n",
      "410/410 [==============================] - 135s 329ms/step - loss: 0.4303 - auc: 0.8674 - val_loss: 0.4263 - val_auc: 0.8640\n",
      "\n",
      "Epoch 00016: val_auc improved from 0.86375 to 0.86396, saving model to models/fold1.h5\n",
      "Epoch 17/20\n",
      "\n",
      "Epoch 00017: LearningRateScheduler reducing learning rate to 3.7304411106183906e-05.\n",
      "410/410 [==============================] - 135s 330ms/step - loss: 0.4259 - auc: 0.8705 - val_loss: 0.4257 - val_auc: 0.8641\n",
      "\n",
      "Epoch 00017: val_auc improved from 0.86396 to 0.86409, saving model to models/fold1.h5\n",
      "Epoch 18/20\n",
      "\n",
      "Epoch 00018: LearningRateScheduler reducing learning rate to 2.614308777432873e-05.\n",
      "410/410 [==============================] - 135s 330ms/step - loss: 0.4236 - auc: 0.8712 - val_loss: 0.4256 - val_auc: 0.8641\n",
      "\n",
      "Epoch 00018: val_auc did not improve from 0.86409\n",
      "Epoch 19/20\n",
      "\n",
      "Epoch 00019: LearningRateScheduler reducing learning rate to 1.833016144203011e-05.\n",
      "410/410 [==============================] - 135s 329ms/step - loss: 0.4270 - auc: 0.8700 - val_loss: 0.4263 - val_auc: 0.8640\n",
      "\n",
      "Epoch 00019: val_auc did not improve from 0.86409\n",
      "Epoch 20/20\n",
      "\n",
      "Epoch 00020: LearningRateScheduler reducing learning rate to 1.2861113009421077e-05.\n",
      "410/410 [==============================] - 134s 328ms/step - loss: 0.4278 - auc: 0.8696 - val_loss: 0.4258 - val_auc: 0.8641\n",
      "\n",
      "Epoch 00020: val_auc improved from 0.86409 to 0.86410, saving model to models/fold1.h5\n",
      "Loading best model...\n"
     ]
    },
    {
     "name": "stderr",
     "output_type": "stream",
     "text": [
      "/opt/conda/lib/python3.7/site-packages/seaborn/distributions.py:2557: FutureWarning: `distplot` is a deprecated function and will be removed in a future version. Please adapt your code to use either `displot` (a figure-level function with similar flexibility) or `histplot` (an axes-level function for histograms).\n",
      "  warnings.warn(msg, FutureWarning)\n"
     ]
    },
    {
     "data": {
      "image/png": "[encoded data removed]",
      "text/plain": [
       "<Figure size 576x432 with 1 Axes>"
      ]
     },
     "metadata": {
      "needs_background": "light"
     },
     "output_type": "display_data"
    },
    {
     "data": {
      "image/png": "[encoded data removed]",
      "text/plain": [
       "<Figure size 1080x360 with 2 Axes>"
      ]
     },
     "metadata": {
      "needs_background": "light"
     },
     "output_type": "display_data"
    },
    {
     "name": "stdout",
     "output_type": "stream",
     "text": [
      "========================================================================================================================\n",
      "Fold 2\n",
      "========================================================================================================================\n",
      "Running on TPU: grpc://10.0.0.2:8470\n",
      "Running on 8 replicas\n",
      "Epoch 1/20\n",
      "\n",
      "Epoch 00001: LearningRateScheduler reducing learning rate to 0.0001.\n",
      "410/410 [==============================] - 248s 354ms/step - loss: 0.6074 - auc: 0.6952 - val_loss: 0.6893 - val_auc: 0.5513\n",
      "\n",
      "Epoch 00001: val_auc improved from -inf to 0.55129, saving model to models/fold2.h5\n",
      "Epoch 2/20\n",
      "\n",
      "Epoch 00002: LearningRateScheduler reducing learning rate to 0.0013466666666666668.\n",
      "410/410 [==============================] - 135s 329ms/step - loss: 0.5061 - auc: 0.8136 - val_loss: 0.4649 - val_auc: 0.8379\n",
      "\n",
      "Epoch 00002: val_auc improved from 0.55129 to 0.83788, saving model to models/fold2.h5\n",
      "Epoch 3/20\n",
      "\n",
      "Epoch 00003: LearningRateScheduler reducing learning rate to 0.0025933333333333333.\n",
      "410/410 [==============================] - 135s 330ms/step - loss: 0.4790 - auc: 0.8339 - val_loss: 0.4524 - val_auc: 0.8475\n",
      "\n",
      "Epoch 00003: val_auc improved from 0.83788 to 0.84753, saving model to models/fold2.h5\n",
      "Epoch 4/20\n",
      "\n",
      "Epoch 00004: LearningRateScheduler reducing learning rate to 0.00384.\n",
      "410/410 [==============================] - 135s 329ms/step - loss: 0.4686 - auc: 0.8441 - val_loss: 0.4606 - val_auc: 0.8499\n",
      "\n",
      "Epoch 00004: val_auc improved from 0.84753 to 0.84987, saving model to models/fold2.h5\n",
      "Epoch 5/20\n",
      "\n",
      "Epoch 00005: LearningRateScheduler reducing learning rate to 0.0026880299999999997.\n",
      "410/410 [==============================] - 135s 330ms/step - loss: 0.4595 - auc: 0.8483 - val_loss: 0.4903 - val_auc: 0.8496\n",
      "\n",
      "Epoch 00005: val_auc did not improve from 0.84987\n",
      "Epoch 6/20\n",
      "\n",
      "Epoch 00006: LearningRateScheduler reducing learning rate to 0.001881651.\n",
      "410/410 [==============================] - 136s 333ms/step - loss: 0.4539 - auc: 0.8521 - val_loss: 0.4639 - val_auc: 0.8566\n",
      "\n",
      "Epoch 00006: val_auc improved from 0.84987 to 0.85662, saving model to models/fold2.h5\n",
      "Epoch 7/20\n",
      "\n",
      "Epoch 00007: LearningRateScheduler reducing learning rate to 0.0013171856999999998.\n",
      "410/410 [==============================] - 135s 330ms/step - loss: 0.4493 - auc: 0.8554 - val_loss: 0.4693 - val_auc: 0.8593\n",
      "\n",
      "Epoch 00007: val_auc improved from 0.85662 to 0.85928, saving model to models/fold2.h5\n",
      "Epoch 8/20\n",
      "\n",
      "Epoch 00008: LearningRateScheduler reducing learning rate to 0.0009220599899999999.\n",
      "410/410 [==============================] - 135s 329ms/step - loss: 0.4405 - auc: 0.8622 - val_loss: 0.4362 - val_auc: 0.8600\n",
      "\n",
      "Epoch 00008: val_auc improved from 0.85928 to 0.86002, saving model to models/fold2.h5\n",
      "Epoch 9/20\n",
      "\n",
      "Epoch 00009: LearningRateScheduler reducing learning rate to 0.0006454719929999997.\n",
      "410/410 [==============================] - 135s 329ms/step - loss: 0.4393 - auc: 0.8614 - val_loss: 0.4527 - val_auc: 0.8601\n",
      "\n",
      "Epoch 00009: val_auc improved from 0.86002 to 0.86009, saving model to models/fold2.h5\n",
      "Epoch 10/20\n",
      "\n",
      "Epoch 00010: LearningRateScheduler reducing learning rate to 0.00045186039509999986.\n",
      "410/410 [==============================] - 135s 330ms/step - loss: 0.4381 - auc: 0.8622 - val_loss: 0.4325 - val_auc: 0.8618\n",
      "\n",
      "Epoch 00010: val_auc improved from 0.86009 to 0.86182, saving model to models/fold2.h5\n",
      "Epoch 11/20\n",
      "\n",
      "Epoch 00011: LearningRateScheduler reducing learning rate to 0.00031633227656999987.\n",
      "410/410 [==============================] - 135s 330ms/step - loss: 0.4353 - auc: 0.8646 - val_loss: 0.4288 - val_auc: 0.8625\n",
      "\n",
      "Epoch 00011: val_auc improved from 0.86182 to 0.86248, saving model to models/fold2.h5\n",
      "Epoch 12/20\n",
      "\n",
      "Epoch 00012: LearningRateScheduler reducing learning rate to 0.0002214625935989999.\n",
      "410/410 [==============================] - 135s 330ms/step - loss: 0.4295 - auc: 0.8697 - val_loss: 0.4273 - val_auc: 0.8631\n",
      "\n",
      "Epoch 00012: val_auc improved from 0.86248 to 0.86314, saving model to models/fold2.h5\n",
      "Epoch 13/20\n",
      "\n",
      "Epoch 00013: LearningRateScheduler reducing learning rate to 0.00015505381551929993.\n",
      "410/410 [==============================] - 135s 330ms/step - loss: 0.4300 - auc: 0.8674 - val_loss: 0.4272 - val_auc: 0.8624\n",
      "\n",
      "Epoch 00013: val_auc did not improve from 0.86314\n",
      "Epoch 14/20\n",
      "\n",
      "Epoch 00014: LearningRateScheduler reducing learning rate to 0.00010856767086350995.\n",
      "410/410 [==============================] - 135s 330ms/step - loss: 0.4306 - auc: 0.8668 - val_loss: 0.4270 - val_auc: 0.8634\n",
      "\n",
      "Epoch 00014: val_auc improved from 0.86314 to 0.86341, saving model to models/fold2.h5\n",
      "Epoch 15/20\n",
      "\n",
      "Epoch 00015: LearningRateScheduler reducing learning rate to 7.602736960445695e-05.\n",
      "410/410 [==============================] - 135s 330ms/step - loss: 0.4304 - auc: 0.8674 - val_loss: 0.4257 - val_auc: 0.8636\n",
      "\n",
      "Epoch 00015: val_auc improved from 0.86341 to 0.86361, saving model to models/fold2.h5\n",
      "Epoch 16/20\n",
      "\n",
      "Epoch 00016: LearningRateScheduler reducing learning rate to 5.324915872311987e-05.\n",
      "410/410 [==============================] - 135s 330ms/step - loss: 0.4228 - auc: 0.8742 - val_loss: 0.4262 - val_auc: 0.8636\n",
      "\n",
      "Epoch 00016: val_auc did not improve from 0.86361\n",
      "Epoch 17/20\n",
      "\n",
      "Epoch 00017: LearningRateScheduler reducing learning rate to 3.7304411106183906e-05.\n",
      "410/410 [==============================] - 135s 329ms/step - loss: 0.4254 - auc: 0.8705 - val_loss: 0.4262 - val_auc: 0.8635\n",
      "\n",
      "Epoch 00017: val_auc did not improve from 0.86361\n",
      "Epoch 18/20\n",
      "\n",
      "Epoch 00018: LearningRateScheduler reducing learning rate to 2.614308777432873e-05.\n",
      "410/410 [==============================] - 135s 329ms/step - loss: 0.4269 - auc: 0.8696 - val_loss: 0.4254 - val_auc: 0.8638\n",
      "\n",
      "Epoch 00018: val_auc improved from 0.86361 to 0.86376, saving model to models/fold2.h5\n",
      "Epoch 19/20\n",
      "\n",
      "Epoch 00019: LearningRateScheduler reducing learning rate to 1.833016144203011e-05.\n",
      "410/410 [==============================] - 135s 330ms/step - loss: 0.4263 - auc: 0.8703 - val_loss: 0.4256 - val_auc: 0.8637\n",
      "\n",
      "Epoch 00019: val_auc did not improve from 0.86376\n",
      "Epoch 20/20\n",
      "\n",
      "Epoch 00020: LearningRateScheduler reducing learning rate to 1.2861113009421077e-05.\n",
      "410/410 [==============================] - 135s 331ms/step - loss: 0.4219 - auc: 0.8747 - val_loss: 0.4258 - val_auc: 0.8637\n",
      "\n",
      "Epoch 00020: val_auc did not improve from 0.86376\n",
      "Loading best model...\n"
     ]
    },
    {
     "name": "stderr",
     "output_type": "stream",
     "text": [
      "/opt/conda/lib/python3.7/site-packages/seaborn/distributions.py:2557: FutureWarning: `distplot` is a deprecated function and will be removed in a future version. Please adapt your code to use either `displot` (a figure-level function with similar flexibility) or `histplot` (an axes-level function for histograms).\n",
      "  warnings.warn(msg, FutureWarning)\n"
     ]
    },
    {
     "data": {
      "image/png": "[encoded data removed]",
      "text/plain": [
       "<Figure size 576x432 with 1 Axes>"
      ]
     },
     "metadata": {
      "needs_background": "light"
     },
     "output_type": "display_data"
    },
    {
     "data": {
      "image/png": "[encoded data removed]",
      "text/plain": [
       "<Figure size 1080x360 with 2 Axes>"
      ]
     },
     "metadata": {
      "needs_background": "light"
     },
     "output_type": "display_data"
    },
    {
     "name": "stdout",
     "output_type": "stream",
     "text": [
      "========================================================================================================================\n",
      "Fold 3\n",
      "========================================================================================================================\n",
      "Running on TPU: grpc://10.0.0.2:8470\n",
      "Running on 8 replicas\n",
      "Epoch 1/20\n",
      "\n",
      "Epoch 00001: LearningRateScheduler reducing learning rate to 0.0001.\n",
      "410/410 [==============================] - 255s 355ms/step - loss: 0.6034 - auc: 0.7024 - val_loss: 0.6988 - val_auc: 0.5619\n",
      "\n",
      "Epoch 00001: val_auc improved from -inf to 0.56185, saving model to models/fold3.h5\n",
      "Epoch 2/20\n",
      "\n",
      "Epoch 00002: LearningRateScheduler reducing learning rate to 0.0013466666666666668.\n",
      "410/410 [==============================] - 134s 327ms/step - loss: 0.5063 - auc: 0.8120 - val_loss: 0.4578 - val_auc: 0.8464\n",
      "\n",
      "Epoch 00002: val_auc improved from 0.56185 to 0.84644, saving model to models/fold3.h5\n",
      "Epoch 3/20\n",
      "\n",
      "Epoch 00003: LearningRateScheduler reducing learning rate to 0.0025933333333333333.\n",
      "410/410 [==============================] - 135s 329ms/step - loss: 0.4793 - auc: 0.8336 - val_loss: 0.4692 - val_auc: 0.8509\n",
      "\n",
      "Epoch 00003: val_auc improved from 0.84644 to 0.85087, saving model to models/fold3.h5\n",
      "Epoch 4/20\n",
      "\n",
      "Epoch 00004: LearningRateScheduler reducing learning rate to 0.00384.\n",
      "410/410 [==============================] - 134s 328ms/step - loss: 0.4753 - auc: 0.8372 - val_loss: 0.4679 - val_auc: 0.8498\n",
      "\n",
      "Epoch 00004: val_auc did not improve from 0.85087\n",
      "Epoch 5/20\n",
      "\n",
      "Epoch 00005: LearningRateScheduler reducing learning rate to 0.0026880299999999997.\n",
      "410/410 [==============================] - 135s 330ms/step - loss: 0.4617 - auc: 0.8463 - val_loss: 0.4438 - val_auc: 0.8547\n",
      "\n",
      "Epoch 00005: val_auc improved from 0.85087 to 0.85465, saving model to models/fold3.h5\n",
      "Epoch 6/20\n",
      "\n",
      "Epoch 00006: LearningRateScheduler reducing learning rate to 0.001881651.\n",
      "410/410 [==============================] - 135s 330ms/step - loss: 0.4548 - auc: 0.8508 - val_loss: 0.4377 - val_auc: 0.8596\n",
      "\n",
      "Epoch 00006: val_auc improved from 0.85465 to 0.85962, saving model to models/fold3.h5\n",
      "Epoch 7/20\n",
      "\n",
      "Epoch 00007: LearningRateScheduler reducing learning rate to 0.0013171856999999998.\n",
      "410/410 [==============================] - 135s 330ms/step - loss: 0.4494 - auc: 0.8547 - val_loss: 0.4311 - val_auc: 0.8622\n",
      "\n",
      "Epoch 00007: val_auc improved from 0.85962 to 0.86220, saving model to models/fold3.h5\n",
      "Epoch 8/20\n",
      "\n",
      "Epoch 00008: LearningRateScheduler reducing learning rate to 0.0009220599899999999.\n",
      "410/410 [==============================] - 135s 330ms/step - loss: 0.4448 - auc: 0.8581 - val_loss: 0.4365 - val_auc: 0.8624\n",
      "\n",
      "Epoch 00008: val_auc improved from 0.86220 to 0.86236, saving model to models/fold3.h5\n",
      "Epoch 9/20\n",
      "\n",
      "Epoch 00009: LearningRateScheduler reducing learning rate to 0.0006454719929999997.\n",
      "410/410 [==============================] - 135s 330ms/step - loss: 0.4417 - auc: 0.8603 - val_loss: 0.4311 - val_auc: 0.8642\n",
      "\n",
      "Epoch 00009: val_auc improved from 0.86236 to 0.86423, saving model to models/fold3.h5\n",
      "Epoch 10/20\n",
      "\n",
      "Epoch 00010: LearningRateScheduler reducing learning rate to 0.00045186039509999986.\n",
      "410/410 [==============================] - 135s 330ms/step - loss: 0.4376 - auc: 0.8619 - val_loss: 0.4450 - val_auc: 0.8657\n",
      "\n",
      "Epoch 00010: val_auc improved from 0.86423 to 0.86572, saving model to models/fold3.h5\n",
      "Epoch 11/20\n",
      "\n",
      "Epoch 00011: LearningRateScheduler reducing learning rate to 0.00031633227656999987.\n",
      "410/410 [==============================] - 135s 329ms/step - loss: 0.4358 - auc: 0.8639 - val_loss: 0.4248 - val_auc: 0.8663\n",
      "\n",
      "Epoch 00011: val_auc improved from 0.86572 to 0.86629, saving model to models/fold3.h5\n",
      "Epoch 12/20\n",
      "\n",
      "Epoch 00012: LearningRateScheduler reducing learning rate to 0.0002214625935989999.\n",
      "410/410 [==============================] - 136s 331ms/step - loss: 0.4367 - auc: 0.8629 - val_loss: 0.4355 - val_auc: 0.8665\n",
      "\n",
      "Epoch 00012: val_auc improved from 0.86629 to 0.86649, saving model to models/fold3.h5\n",
      "Epoch 13/20\n",
      "\n",
      "Epoch 00013: LearningRateScheduler reducing learning rate to 0.00015505381551929993.\n",
      "410/410 [==============================] - 135s 330ms/step - loss: 0.4328 - auc: 0.8659 - val_loss: 0.4225 - val_auc: 0.8670\n",
      "\n",
      "Epoch 00013: val_auc improved from 0.86649 to 0.86697, saving model to models/fold3.h5\n",
      "Epoch 14/20\n",
      "\n",
      "Epoch 00014: LearningRateScheduler reducing learning rate to 0.00010856767086350995.\n",
      "410/410 [==============================] - 135s 330ms/step - loss: 0.4306 - auc: 0.8663 - val_loss: 0.4232 - val_auc: 0.8670\n",
      "\n",
      "Epoch 00014: val_auc did not improve from 0.86697\n",
      "Epoch 15/20\n",
      "\n",
      "Epoch 00015: LearningRateScheduler reducing learning rate to 7.602736960445695e-05.\n",
      "410/410 [==============================] - 135s 329ms/step - loss: 0.4306 - auc: 0.8674 - val_loss: 0.4244 - val_auc: 0.8673\n",
      "\n",
      "Epoch 00015: val_auc improved from 0.86697 to 0.86734, saving model to models/fold3.h5\n",
      "Epoch 16/20\n",
      "\n",
      "Epoch 00016: LearningRateScheduler reducing learning rate to 5.324915872311987e-05.\n",
      "410/410 [==============================] - 135s 330ms/step - loss: 0.4315 - auc: 0.8664 - val_loss: 0.4225 - val_auc: 0.8672\n",
      "\n",
      "Epoch 00016: val_auc did not improve from 0.86734\n",
      "Epoch 17/20\n",
      "\n",
      "Epoch 00017: LearningRateScheduler reducing learning rate to 3.7304411106183906e-05.\n",
      "410/410 [==============================] - 135s 330ms/step - loss: 0.4294 - auc: 0.8684 - val_loss: 0.4226 - val_auc: 0.8675\n",
      "\n",
      "Epoch 00017: val_auc improved from 0.86734 to 0.86749, saving model to models/fold3.h5\n",
      "Epoch 18/20\n",
      "\n",
      "Epoch 00018: LearningRateScheduler reducing learning rate to 2.614308777432873e-05.\n",
      "410/410 [==============================] - 135s 330ms/step - loss: 0.4271 - auc: 0.8688 - val_loss: 0.4220 - val_auc: 0.8673\n",
      "\n",
      "Epoch 00018: val_auc did not improve from 0.86749\n",
      "Epoch 19/20\n",
      "\n",
      "Epoch 00019: LearningRateScheduler reducing learning rate to 1.833016144203011e-05.\n",
      "410/410 [==============================] - 135s 331ms/step - loss: 0.4286 - auc: 0.8685 - val_loss: 0.4218 - val_auc: 0.8676\n",
      "\n",
      "Epoch 00019: val_auc improved from 0.86749 to 0.86757, saving model to models/fold3.h5\n",
      "Epoch 20/20\n",
      "\n",
      "Epoch 00020: LearningRateScheduler reducing learning rate to 1.2861113009421077e-05.\n",
      "410/410 [==============================] - 135s 330ms/step - loss: 0.4283 - auc: 0.8681 - val_loss: 0.4220 - val_auc: 0.8675\n",
      "\n",
      "Epoch 00020: val_auc did not improve from 0.86757\n",
      "Loading best model...\n"
     ]
    },
    {
     "name": "stderr",
     "output_type": "stream",
     "text": [
      "/opt/conda/lib/python3.7/site-packages/seaborn/distributions.py:2557: FutureWarning: `distplot` is a deprecated function and will be removed in a future version. Please adapt your code to use either `displot` (a figure-level function with similar flexibility) or `histplot` (an axes-level function for histograms).\n",
      "  warnings.warn(msg, FutureWarning)\n"
     ]
    },
    {
     "data": {
      "image/png": "[encoded data removed]",
      "text/plain": [
       "<Figure size 576x432 with 1 Axes>"
      ]
     },
     "metadata": {
      "needs_background": "light"
     },
     "output_type": "display_data"
    },
    {
     "data": {
      "image/png": "[encoded data removed]",
      "text/plain": [
       "<Figure size 1080x360 with 2 Axes>"
      ]
     },
     "metadata": {
      "needs_background": "light"
     },
     "output_type": "display_data"
    }
   ],
   "source": [
    "for fold, (trn_idx, val_idx) in enumerate(kf.split(files_train_all)):\n",
    "    files_train = files_train_all[trn_idx]\n",
    "    files_valid = files_train_all[val_idx]\n",
    "\n",
    "    print(\"=\" * 120)\n",
    "    print(f\"Fold {fold}\")\n",
    "    print(\"=\" * 120)\n",
    "\n",
    "    train_image_count = count_data_items(files_train)\n",
    "    valid_image_count = count_data_items(files_valid)\n",
    "\n",
    "    tf.keras.backend.clear_session()\n",
    "    strategy, tpu_detected = auto_select_accelerator()\n",
    "    with strategy.scope():\n",
    "        model = build_model(\n",
    "            size=IMAGE_SIZE, \n",
    "            efficientnet_size=EFFICIENTNET_SIZE,\n",
    "            weights=WEIGHTS, \n",
    "            count=train_image_count // BATCH_SIZE // REPLICAS // 4)\n",
    "    \n",
    "    model_ckpt = tf.keras.callbacks.ModelCheckpoint(\n",
    "        str(SAVEDIR / f\"fold{fold}.h5\"), monitor=\"val_auc\", verbose=1, save_best_only=True,\n",
    "        save_weights_only=True, mode=\"max\", save_freq=\"epoch\"\n",
    "    )\n",
    "\n",
    "    history = model.fit(\n",
    "        get_dataset(files_train, batch_size=BATCH_SIZE, shuffle=True, repeat=True, aug=True),\n",
    "        epochs=EPOCHS,\n",
    "        callbacks=[model_ckpt, get_lr_callback(BATCH_SIZE, REPLICAS)],\n",
    "        steps_per_epoch=train_image_count // BATCH_SIZE // REPLICAS // 4,\n",
    "        validation_data=get_dataset(files_valid, batch_size=BATCH_SIZE * 4, repeat=False, shuffle=False, aug=False),\n",
    "        verbose=1\n",
    "    )\n",
    "\n",
    "    print(\"Loading best model...\")\n",
    "    model.load_weights(str(SAVEDIR / f\"fold{fold}.h5\"))\n",
    "\n",
    "    ds_valid = get_dataset(files_valid, labeled=False, return_image_ids=False, repeat=True, shuffle=False, batch_size=BATCH_SIZE * 2, aug=False)\n",
    "    STEPS = valid_image_count / BATCH_SIZE / 2 / REPLICAS\n",
    "    pred = model.predict(ds_valid, steps=STEPS, verbose=0)[:valid_image_count]\n",
    "    oof_pred.append(np.mean(pred.reshape((valid_image_count, 1), order=\"F\"), axis=1))\n",
    "\n",
    "    ds_valid = get_dataset(files_valid, repeat=False, labeled=True, return_image_ids=True, aug=False)\n",
    "    oof_target.append(np.array([target.numpy() for img, target in iter(ds_valid.unbatch())]))\n",
    "\n",
    "    plt.figure(figsize=(8, 6))\n",
    "    sns.distplot(oof_pred[-1])\n",
    "    plt.show()\n",
    "\n",
    "    plt.figure(figsize=(15, 5))\n",
    "    plt.plot(\n",
    "        np.arange(len(history.history[\"auc\"])),\n",
    "        history.history[\"auc\"],\n",
    "        \"-o\",\n",
    "        label=\"Train auc\",\n",
    "        color=\"#ff7f0e\")\n",
    "    plt.plot(\n",
    "        np.arange(len(history.history[\"auc\"])),\n",
    "        history.history[\"val_auc\"],\n",
    "        \"-o\",\n",
    "        label=\"Val auc\",\n",
    "        color=\"#1f77b4\")\n",
    "    \n",
    "    x = np.argmax(history.history[\"val_auc\"])\n",
    "    y = np.max(history.history[\"val_auc\"])\n",
    "\n",
    "    xdist = plt.xlim()[1] - plt.xlim()[0]\n",
    "    ydist = plt.ylim()[1] - plt.ylim()[0]\n",
    "\n",
    "    plt.scatter(x, y, s=200, color=\"#1f77b4\")\n",
    "    plt.text(x - 0.03 * xdist, y - 0.13 * ydist, f\"max auc\\n{y}\", size=14)\n",
    "\n",
    "    plt.ylabel(\"auc\", size=14)\n",
    "    plt.xlabel(\"Epoch\", size=14)\n",
    "    plt.legend(loc=2)\n",
    "\n",
    "    plt2 = plt.gca().twinx()\n",
    "    plt2.plot(\n",
    "        np.arange(len(history.history[\"auc\"])),\n",
    "        history.history[\"loss\"],\n",
    "        \"-o\",\n",
    "        label=\"Train Loss\",\n",
    "        color=\"#2ca02c\")\n",
    "    plt2.plot(\n",
    "        np.arange(len(history.history[\"auc\"])),\n",
    "        history.history[\"val_loss\"],\n",
    "        \"-o\",\n",
    "        label=\"Val Loss\",\n",
    "        color=\"#d62728\")\n",
    "    \n",
    "    x = np.argmin(history.history[\"val_loss\"])\n",
    "    y = np.min(history.history[\"val_loss\"])\n",
    "    \n",
    "    ydist = plt.ylim()[1] - plt.ylim()[0]\n",
    "\n",
    "    plt.scatter(x, y, s=200, color=\"#d62728\")\n",
    "    plt.text(x - 0.03 * xdist, y + 0.05 * ydist, \"min loss\", size=14)\n",
    "\n",
    "    plt.ylabel(\"Loss\", size=14)\n",
    "    plt.title(f\"Fold {fold + 1} - Image Size {IMAGE_SIZE}, EfficientNetB{EFFICIENTNET_SIZE}\", size=18)\n",
    "\n",
    "    plt.legend(loc=3)\n",
    "    plt.savefig(OOFDIR / f\"fig{fold}.png\")\n",
    "    plt.show()"
   ]
  },
  {
   "cell_type": "markdown",
   "id": "9da5e3cd",
   "metadata": {
    "papermill": {
     "duration": 10.143114,
     "end_time": "2021-08-30T08:45:09.531819",
     "exception": false,
     "start_time": "2021-08-30T08:44:59.388705",
     "status": "completed"
    },
    "tags": []
   },
   "source": [
    "## OOF"
   ]
  },
  {
   "cell_type": "code",
   "execution_count": 19,
   "id": "74e856c4",
   "metadata": {
    "execution": {
     "iopub.execute_input": "2021-08-30T08:45:30.071369Z",
     "iopub.status.busy": "2021-08-30T08:45:30.070194Z",
     "iopub.status.idle": "2021-08-30T08:45:30.341815Z",
     "shell.execute_reply": "2021-08-30T08:45:30.341020Z"
    },
    "papermill": {
     "duration": 10.717552,
     "end_time": "2021-08-30T08:45:30.342032",
     "exception": false,
     "start_time": "2021-08-30T08:45:19.624480",
     "status": "completed"
    },
    "tags": []
   },
   "outputs": [
    {
     "name": "stdout",
     "output_type": "stream",
     "text": [
      "AUC: 0.86493\n"
     ]
    }
   ],
   "source": [
    "oof = np.concatenate(oof_pred)\n",
    "true = np.concatenate(oof_target)\n",
    "auc = roc_auc_score(y_true=true, y_score=oof)\n",
    "print(f\"AUC: {auc:.5f}\")"
   ]
  },
  {
   "cell_type": "code",
   "execution_count": 20,
   "id": "67dc9646",
   "metadata": {
    "execution": {
     "iopub.execute_input": "2021-08-30T08:45:50.457764Z",
     "iopub.status.busy": "2021-08-30T08:45:50.457066Z",
     "iopub.status.idle": "2021-08-30T08:45:50.478796Z",
     "shell.execute_reply": "2021-08-30T08:45:50.478205Z"
    },
    "papermill": {
     "duration": 10.109853,
     "end_time": "2021-08-30T08:45:50.478957",
     "exception": false,
     "start_time": "2021-08-30T08:45:40.369104",
     "status": "completed"
    },
    "tags": []
   },
   "outputs": [
    {
     "data": {
      "text/html": [
       "<div>\n",
       "<style scoped>\n",
       "    .dataframe tbody tr th:only-of-type {\n",
       "        vertical-align: middle;\n",
       "    }\n",
       "\n",
       "    .dataframe tbody tr th {\n",
       "        vertical-align: top;\n",
       "    }\n",
       "\n",
       "    .dataframe thead th {\n",
       "        text-align: right;\n",
       "    }\n",
       "</style>\n",
       "<table border=\"1\" class=\"dataframe\">\n",
       "  <thead>\n",
       "    <tr style=\"text-align: right;\">\n",
       "      <th></th>\n",
       "      <th>y_true</th>\n",
       "      <th>y_pred</th>\n",
       "    </tr>\n",
       "  </thead>\n",
       "  <tbody>\n",
       "    <tr>\n",
       "      <th>0</th>\n",
       "      <td>0.0</td>\n",
       "      <td>0.260248</td>\n",
       "    </tr>\n",
       "    <tr>\n",
       "      <th>1</th>\n",
       "      <td>1.0</td>\n",
       "      <td>0.233667</td>\n",
       "    </tr>\n",
       "    <tr>\n",
       "      <th>2</th>\n",
       "      <td>1.0</td>\n",
       "      <td>0.128415</td>\n",
       "    </tr>\n",
       "    <tr>\n",
       "      <th>3</th>\n",
       "      <td>1.0</td>\n",
       "      <td>0.399959</td>\n",
       "    </tr>\n",
       "    <tr>\n",
       "      <th>4</th>\n",
       "      <td>0.0</td>\n",
       "      <td>0.467967</td>\n",
       "    </tr>\n",
       "  </tbody>\n",
       "</table>\n",
       "</div>"
      ],
      "text/plain": [
       "   y_true    y_pred\n",
       "0     0.0  0.260248\n",
       "1     1.0  0.233667\n",
       "2     1.0  0.128415\n",
       "3     1.0  0.399959\n",
       "4     0.0  0.467967"
      ]
     },
     "execution_count": 20,
     "metadata": {},
     "output_type": "execute_result"
    }
   ],
   "source": [
    "df = pd.DataFrame({\n",
    "    \"y_true\": true.reshape(-1),\n",
    "    \"y_pred\": oof\n",
    "})\n",
    "df.head()"
   ]
  },
  {
   "cell_type": "code",
   "execution_count": 21,
   "id": "9a2e3079",
   "metadata": {
    "execution": {
     "iopub.execute_input": "2021-08-30T08:46:10.995510Z",
     "iopub.status.busy": "2021-08-30T08:46:10.994609Z",
     "iopub.status.idle": "2021-08-30T08:46:12.908133Z",
     "shell.execute_reply": "2021-08-30T08:46:12.907530Z"
    },
    "papermill": {
     "duration": 12.211589,
     "end_time": "2021-08-30T08:46:12.908299",
     "exception": false,
     "start_time": "2021-08-30T08:46:00.696710",
     "status": "completed"
    },
    "tags": []
   },
   "outputs": [],
   "source": [
    "df.to_csv(OOFDIR / f\"oof.csv\", index=False)"
   ]
  },
  {
   "cell_type": "code",
   "execution_count": null,
   "id": "8c38bf3e",
   "metadata": {
    "papermill": {
     "duration": 10.17033,
     "end_time": "2021-08-30T08:46:33.160136",
     "exception": false,
     "start_time": "2021-08-30T08:46:22.989806",
     "status": "completed"
    },
    "tags": []
   },
   "outputs": [],
   "source": []
  }
 ],
 "metadata": {
  "kernelspec": {
   "display_name": "Python 3",
   "language": "python",
   "name": "python3"
  },
  "language_info": {
   "codemirror_mode": {
    "name": "ipython",
    "version": 3
   },
   "file_extension": ".py",
   "mimetype": "text/x-python",
   "name": "python",
   "nbconvert_exporter": "python",
   "pygments_lexer": "ipython3",
   "version": "3.7.10"
  },
  "papermill": {
   "default_parameters": {},
   "duration": 13273.12009,
   "end_time": "2021-08-30T08:46:45.995170",
   "environment_variables": {},
   "exception": null,
   "input_path": "__notebook__.ipynb",
   "output_path": "__notebook__.ipynb",
   "parameters": {},
   "start_time": "2021-08-30T05:05:32.875080",
   "version": "2.3.3"
  }
 },
 "nbformat": 4,
 "nbformat_minor": 5
}
